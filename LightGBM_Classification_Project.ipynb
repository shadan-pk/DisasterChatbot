{
  "nbformat": 4,
  "nbformat_minor": 0,
  "metadata": {
    "kernelspec": {
      "name": "python3",
      "display_name": "Python 3",
      "language": "python"
    },
    "language_info": {
      "name": "python",
      "version": "3.6.6",
      "mimetype": "text/x-python",
      "codemirror_mode": {
        "name": "ipython",
        "version": 3
      },
      "pygments_lexer": "ipython3",
      "nbconvert_exporter": "python",
      "file_extension": ".py"
    },
    "colab": {
      "name": "LightGBM Classification Project.ipynb",
      "provenance": [],
      "include_colab_link": true
    }
  },
  "cells": [
    {
      "cell_type": "markdown",
      "metadata": {
        "id": "view-in-github",
        "colab_type": "text"
      },
      "source": [
        "<a href=\"https://colab.research.google.com/github/shadan-pk/DisasterChatbot/blob/master/LightGBM_Classification_Project.ipynb\" target=\"_parent\"><img src=\"https://colab.research.google.com/assets/colab-badge.svg\" alt=\"Open In Colab\"/></a>"
      ]
    },
    {
      "cell_type": "markdown",
      "metadata": {
        "id": "FfGLiXmqJASV"
      },
      "source": [
        "# **LightGBM Classification Project**\n",
        "\n",
        "\n"
      ]
    },
    {
      "cell_type": "markdown",
      "metadata": {
        "id": "dzaqibHtJEg-"
      },
      "source": [
        "In this project, I will discuss one of the most successful ML algorithm LightGBM Classifier. LightGBM is a fast, distributed, high performance gradient boosting framework based on decision tree algorithms, used for ranking, classification and many other machine learning tasks. It has helped Kagglers win data science competitions.\n",
        "\n",
        "\n",
        "So, let's get started."
      ]
    },
    {
      "cell_type": "markdown",
      "metadata": {
        "id": "dO0-u-fKJASi"
      },
      "source": [
        "## **Table of Contents**\n",
        "\n",
        "- 1.\tIntroduction to LightGBM\n",
        "- 2.\tLightGBM intuition\n",
        "   - 2.1\tLeaf-wise tree growth\n",
        "   - 2.2\tLevel-wise tree growth\n",
        "   - 2.3\tImportant points about tree-growth\n",
        "- 3.\tXGBoost Vs LightGBM\n",
        "- 4.\tLightGBM Parameters\n",
        "   - 4.1\tControl Parameters\n",
        "   - 4.2\tCore Parameters\n",
        "   - 4.3\tMetric Parameter\n",
        "   - 4.4\tIO Parameter\n",
        "- 5.\tLightGBM implementation in Python\n",
        "   - 5.1\tLoad packages\n",
        "   - 5.2\tRead dataset\n",
        "   - 5.3\tPreview dataset\n",
        "   - 5.4\tSummary of dataset\n",
        "   - 5.5\tCheck the distribution of target variable\n",
        "   - 5.6\tDeclare feature vector and target variable\n",
        "   - 5.7\tSplit data into training and test set\n",
        "   - 5.8\tLightGBM model development and training\n",
        "   - 5.9\tModel prediction\n",
        "   - 5.10\tModel accuracy\n",
        "   - 5.11\tCompare train and test set accuracy\n",
        "   - 5.12\tCheck for overfitting\n",
        "   - 5.13\tConfusion-matrix\n",
        "   - 5.14\tClassification-metrices\n",
        "- 6.\tResults and conclusion\n",
        "- 7.\tLightGBM parameter tuning\n",
        "   - 7.1\tFor faster speed\n",
        "   - 7.2\tFor better accuracy\n",
        "   - 7.3\tTo deal with over-fitting\n",
        "- 8.\tReferences\n",
        "\n",
        "\n"
      ]
    },
    {
      "cell_type": "markdown",
      "metadata": {
        "id": "KN8BLQ9jJASj"
      },
      "source": [
        "## **1. Introduction to LightGBM**\n",
        "\n",
        "\n",
        "- [LightGBM](https://github.com/Microsoft/LightGBM) is a gradient boosting framework that uses tree based learning algorithms. It is designed to be distributed and efficient with the following advantages:\n",
        "\n",
        "  - Faster training speed and higher efficiency.\n",
        "  - Lower memory usage.\n",
        "  - Better accuracy.\n",
        "  - Support of parallel and GPU learning.\n",
        "  - Capable of handling large-scale data.\n",
        "  \n",
        "  \n",
        "- At present, decision tree based machine learning algorithms dominate Kaggle competitions. The winning solutions in these competitions have adopted an alogorithm called **XGBoost**.\n",
        "\n",
        "- A couple of years ago, Microsoft announced its gradient boosting framework LightGBM. Nowadays, it steals the spotlight in gradient boosting machines. Kagglers start to use LightGBM more than XGBoost. LightGBM is 6 times faster than XGBoost.\n",
        "\n",
        "- LightGBM is a relatively new algorithm and have long list of parameters given in the [LightGBM documentation](https://github.com/microsoft/LightGBM),\n",
        "\n",
        "- The size of dataset is increasing rapidly. It is become very difficult for traditional data science algorithms to give accurate results. Light GBM is prefixed as **Light** because of its high speed. **LightGBM can handle the large size of data and takes lower memory to run**.\n",
        "\n",
        "- Another reason why Light GBM is so popular is because it focuses on accuracy of results. LGBM also supports GPU learning and thus data scientists are widely using LGBM for data science application development.\n",
        "\n",
        "- It is not advisable to use LGBM on small datasets. LightGBM is sensitive to overfitting and can easily overfit small data."
      ]
    },
    {
      "cell_type": "markdown",
      "metadata": {
        "id": "Uj4xNW73JASj"
      },
      "source": [
        "## **2. LightGBM intuition**\n",
        "\n",
        "\n",
        "- LightGBM is a gradient boosting framework that uses tree based learning algorithm.\n",
        "\n",
        "\n",
        "- LightGBM documentation states that -\n",
        "\n",
        " `LightGBM grows tree vertically while other tree based learning algorithms grow trees horizontally.\n",
        " It means that LightGBM grows tree leaf-wise while other algorithms grow level-wise. It will choose\n",
        " the leaf with max delta loss to grow. When growing the same leaf, leaf-wise algorithm can reduce more\n",
        " loss than a level-wise algorithm.`\n",
        "\n",
        "\n",
        " - So, we need to understand the distinction between leaf-wise tree growth and level-wise tree growth.\n"
      ]
    },
    {
      "cell_type": "markdown",
      "metadata": {
        "id": "7FIChmnFJASk"
      },
      "source": [
        "### **2.1 Leaf-wise tree growth**\n",
        "\n",
        "\n",
        "- Leaf-wise tree growth can best be explained with the following visual -"
      ]
    },
    {
      "cell_type": "markdown",
      "metadata": {
        "id": "aEu_a4qZJASl"
      },
      "source": [
        "![Leaf-wise tree growth](https://i.stack.imgur.com/YOE9y.png)"
      ]
    },
    {
      "cell_type": "markdown",
      "metadata": {
        "id": "3kV6fmHOJASl"
      },
      "source": [
        "### **2.2 Level-wise tree growth**\n",
        "\n",
        "- Most decision tree learning algorithms grow tree by level (depth)-wise.\n",
        "\n",
        "- Level-wise tree growth can best be explained with the following visual -"
      ]
    },
    {
      "cell_type": "markdown",
      "metadata": {
        "id": "CSG7ox9jJASm"
      },
      "source": [
        "![Level-wise tree growth](https://i.stack.imgur.com/e1FWe.png)"
      ]
    },
    {
      "cell_type": "markdown",
      "metadata": {
        "id": "GJs-TH5_JASm"
      },
      "source": [
        "### **2.3 Important points about tree-growth**\n",
        "\n",
        "\n",
        "- If we grow the full tree, **best-first (leaf-wise)** and **depth-first (level-wise)** will result in the same tree. The difference is in the order in which the tree is expanded. Since we don't normally grow trees to their full depth, order matters.\n",
        "\n",
        "- Application of early stopping criteria and pruning methods can result in very different trees. Because leaf-wise chooses splits based on their contribution to the global loss and not just the loss along a particular branch, it often (not always) will learn lower-error trees \"faster\" than level-wise.\n",
        "\n",
        "- For a small number of nodes, leaf-wise will probably out-perform level-wise. As we add more nodes, without stopping or pruning they will converge to the same performance because they will literally build the same tree eventually."
      ]
    },
    {
      "cell_type": "markdown",
      "metadata": {
        "id": "EQ5-s8FLJASn"
      },
      "source": [
        "## **3. XGBoost Vs LightGBM**\n",
        "\n",
        "\n",
        "- [XGBoost](https://github.com/dmlc/xgboost) is a very fast and accurate ML algorithm. But now it's been challenged by [LightGBM](https://github.com/microsoft/LightGBM) — which runs even faster with comparable model accuracy and more hyperparameters for users to tune.\n",
        "\n",
        "- The key difference in speed is because **XGBoost split the tree nodes one level at a time** and **LightGBM does that one node at a time**.\n",
        "\n",
        "- So XGBoost developers later improved their algorithms to catch up with LightGBM, allowing users to also run XGBoost in split-by-leaf mode `(grow_policy = ‘lossguide’)`. Now XGBoost is much faster with this improvement, but LightGBM is still about 1.3X — 1.5X the speed of XGB.\n",
        "\n",
        "- Another difference between XGBoost and LightGBM is that XGBoost has a feature that LightGBM lacks — **monotonic constraint**. It will sacrifice some model accuracy and increase training time, but may improve model interpretability."
      ]
    },
    {
      "cell_type": "markdown",
      "metadata": {
        "id": "GMHEKx66JASn"
      },
      "source": [
        "## **4. LightGBM Parameters**\n",
        "\n",
        "\n",
        "- [LightGBM](https://github.com/microsoft/LightGBM) provides more than 100 [LightGBM parameters](https://github.com/microsoft/LightGBM/blob/master/docs/Parameters.rst).\n",
        "\n",
        "- It is very important to know some basic parameters of LightGBM.\n",
        "\n",
        "- So, in this section, I will discuss some basic parameters of LightGBM.\n"
      ]
    },
    {
      "cell_type": "markdown",
      "metadata": {
        "id": "uzwEjaYlJASo"
      },
      "source": [
        "### **4.1 Control Parameters**\n",
        "\n",
        "- **max_depth** : It describes the maximum depth of tree. This parameter is used to handle model overfitting. If you feel that your model is overfitted, you should to lower max_depth.\n",
        "\n",
        "- **min_data_in_leaf** : It is the minimum number of the records a leaf may have. The default value is 20, optimum value. It is also used to deal with overfitting.\n",
        "\n",
        "- **feature_fraction**: Used when your boosting is random forest. 0.8 feature fraction means LightGBM will select 80% of parameters randomly in each iteration for building trees.\n",
        "\n",
        "- **bagging_fraction** : specifies the fraction of data to be used for each iteration and is generally used to speed up the training and avoid overfitting.\n",
        "\n",
        "- **early_stopping_round** : This parameter can help you speed up your analysis. Model will stop training if one metric of one validation data doesn’t improve in last early_stopping_round rounds. This will reduce excessive iterations.\n",
        "\n",
        "- **lambda** : lambda specifies regularization. Typical value ranges from 0 to 1.\n",
        "\n",
        "- **min_gain_to_split** : This parameter will describe the minimum gain to make a split. It can used to control number of useful splits in tree.\n",
        "\n",
        "- **max_cat_group** : When the number of category is large, finding the split point on it is easily over-fitting. So LightGBM merges them into ‘max_cat_group’ groups, and finds the split points on the group boundaries, default:64."
      ]
    },
    {
      "cell_type": "markdown",
      "metadata": {
        "id": "sXqF9b6RJASp"
      },
      "source": [
        "### **4.2 Core Parameters**\n",
        "\n",
        "- **Task** : It specifies the task you want to perform on data. It may be either train or predict.\n",
        "\n",
        "- **application** : This is the most important parameter and specifies the application of your model, whether it is a regression problem or classification problem. LightGBM will by default consider model as a regression model.\n",
        "\n",
        "  - **regression** : for regression\n",
        "  - **binary** : for binary classification\n",
        "  - **multiclass** : for multiclass classification problem\n",
        "  \n",
        "  \n",
        "- **boosting** : defines the type of algorithm you want to run, default=gdbt.\n",
        "\n",
        "  - **gbdt** : traditional Gradient Boosting Decision Tree\n",
        "  - **rf** : random forest\n",
        "  - **dart** : Dropouts meet Multiple Additive Regression Trees\n",
        "  - **goss** : Gradient-based One-Side Sampling\n",
        "  \n",
        "  \n",
        "- **num_boost_round** : Number of boosting iterations, typically 100+\n",
        "\n",
        "- **learning_rate** : This determines the impact of each tree on the final outcome. GBM works by starting with an initial estimate which is updated using the output of each tree. The learning parameter controls the magnitude of this change in the estimates. Typical values: 0.1, 0.001, 0.003…\n",
        "\n",
        "- **num_leaves** : number of leaves in full tree, default: 31\n",
        "\n",
        "- **device** : default: cpu, can also pass gpu"
      ]
    },
    {
      "cell_type": "markdown",
      "metadata": {
        "id": "lirkdxWcJASq"
      },
      "source": [
        "### **4.3 Metric Parameter**\n",
        "\n",
        "\n",
        "- metric: again one of the important parameter as it specifies loss for model building. Below are few general losses for regression and classification.\n",
        "\n",
        "  - **mae** : mean absolute error\n",
        "  - **mse** : mean squared error\n",
        "  - **binary_logloss** : loss for binary classification\n",
        "  - **multi_logloss** : loss for multi classification"
      ]
    },
    {
      "cell_type": "markdown",
      "metadata": {
        "id": "fmWPHANZJASr"
      },
      "source": [
        "### **4.4 IO Parameter**\n",
        "\n",
        "- **max_bin** : it denotes the maximum number of bin that feature value will bucket in.\n",
        "\n",
        "- **categorical_feature** : It denotes the index of categorical features. If categorical_features=0,1,2 then column 0, column 1 and column 2 are categorical variables.\n",
        "\n",
        "- **ignore_column** : same as categorical_features just instead of considering specific columns as categorical, it will completely ignore them.\n",
        "\n",
        "- **save_binary** : If you are really dealing with the memory size of your data file then specify this parameter as ‘True’. Specifying parameter true will save the dataset to binary file, this binary file will speed your data reading time for the next time."
      ]
    },
    {
      "cell_type": "markdown",
      "metadata": {
        "id": "wnIyPo6aJASr"
      },
      "source": [
        "Now, we move on to the LightGBM implementation."
      ]
    },
    {
      "cell_type": "markdown",
      "metadata": {
        "trusted": true,
        "id": "x7wb-wbMJASs"
      },
      "source": [
        "## **5. LightGBM implementation in Python**"
      ]
    },
    {
      "cell_type": "markdown",
      "metadata": {
        "id": "CGRAi-RIJASt"
      },
      "source": [
        "### **5.1 Load packages**"
      ]
    },
    {
      "cell_type": "code",
      "metadata": {
        "_uuid": "8f2839f25d086af736a60e9eeb907d3b93b6e0e5",
        "_cell_guid": "b1076dfc-b9ad-4769-8c92-a6c4dae69d19",
        "trusted": true,
        "id": "_c8VaN5XJASt"
      },
      "source": [
        "import numpy as np # linear algebra\n",
        "import pandas as pd # data processing, CSV file I/O (e.g. pd.read_csv)\n",
        "import matplotlib.pyplot as plt # data visualization\n",
        "import seaborn as sns # statistical data visualization\n"
      ],
      "execution_count": 1,
      "outputs": []
    },
    {
      "cell_type": "code",
      "metadata": {
        "trusted": true,
        "id": "kRDdqrGtJASv"
      },
      "source": [
        "# ignore warnings\n",
        "import warnings\n",
        "warnings.filterwarnings(\"ignore\")\n"
      ],
      "execution_count": 2,
      "outputs": []
    },
    {
      "cell_type": "markdown",
      "metadata": {
        "id": "6jroppkXJASw"
      },
      "source": [
        "### **5.2 Read dataset**"
      ]
    },
    {
      "cell_type": "code",
      "metadata": {
        "colab": {
          "base_uri": "https://localhost:8080/"
        },
        "id": "ohmro7n9jDo2",
        "outputId": "4dce02a8-f72f-4232-dd27-22a14f3b95c3"
      },
      "source": [
        "from google.colab import drive\n",
        "\n",
        "drive.mount('/content/converted_dataset.csv')\n"
      ],
      "execution_count": null,
      "outputs": [
        {
          "output_type": "stream",
          "text": [
            "Drive already mounted at /content/drive; to attempt to forcibly remount, call drive.mount(\"/content/drive\", force_remount=True).\n"
          ],
          "name": "stdout"
        }
      ]
    },
    {
      "cell_type": "code",
      "metadata": {
        "trusted": true,
        "id": "2zdnaUb4JASw"
      },
      "source": [
        "# load dataset\n",
        "df = pd.read_csv('/content/converted_dataset.csv')\n"
      ],
      "execution_count": 3,
      "outputs": []
    },
    {
      "cell_type": "code",
      "source": [],
      "metadata": {
        "id": "11eYcBGJQZmG"
      },
      "execution_count": null,
      "outputs": []
    },
    {
      "cell_type": "markdown",
      "metadata": {
        "id": "pgj-Lb6np1_N"
      },
      "source": [
        "### **5.3 Preview dataset**"
      ]
    },
    {
      "cell_type": "code",
      "metadata": {
        "colab": {
          "base_uri": "https://localhost:8080/",
          "height": 226
        },
        "id": "EFp3FsShpn-1",
        "outputId": "dc82a99c-5993-4cfc-8208-5dacb927709a"
      },
      "source": [
        "df.head()"
      ],
      "execution_count": 4,
      "outputs": [
        {
          "output_type": "execute_result",
          "data": {
            "text/plain": [
              "       date      time  Severity  temperature_2m  relative_humidity_2m  \\\n",
              "0  01-01-20   7:00:00       0.0        6.061000             67.824059   \n",
              "1  01-01-20   9:00:00       0.0        3.861000             77.639603   \n",
              "2  01-01-20  12:00:00       0.0        4.361000             75.236038   \n",
              "3  01-01-20  15:00:00       0.0        6.111000             73.412125   \n",
              "4  01-01-20  18:00:00       0.0       12.561001             61.951244   \n",
              "\n",
              "   precipitation  surface_pressure  cloud_cover  wind_speed_10m  \\\n",
              "0            0.0        933.246216    20.400002        6.638072   \n",
              "1            0.0        931.856018    26.700001        4.693825   \n",
              "2            0.0        931.915161    14.400001        4.610250   \n",
              "3            0.0        932.712647    20.700001        8.788720   \n",
              "4            0.0        934.771851     0.000000        6.489992   \n",
              "\n",
              "   soil_temperature_0_to_7cm  soil_temperature_7_to_28cm  \\\n",
              "0                      6.061                    8.061001   \n",
              "1                      5.311                    7.761000   \n",
              "2                      3.911                    6.961000   \n",
              "3                      4.611                    6.511000   \n",
              "4                      7.461                    6.511000   \n",
              "\n",
              "   soil_moisture_0_to_7cm  soil_moisture_7_to_28cm  forest_fire       FFMC  \\\n",
              "0                   0.364                    0.372            0  85.213481   \n",
              "1                   0.364                    0.372            0  84.465548   \n",
              "2                   0.359                    0.370            0  84.229353   \n",
              "3                   0.359                    0.369            0  84.497521   \n",
              "4                   0.358                    0.369            0  85.265795   \n",
              "\n",
              "        DMC        DC       ISI       BUI       FWI  \n",
              "0  6.422435  20.48494  0.820074  6.535365  0.692174  \n",
              "1  6.424326  22.43392  0.489779  6.578585  0.413716  \n",
              "2  6.426632  24.47290  0.462396  6.619842  0.390879  \n",
              "3  6.429900  26.82688  1.027850  6.663422  0.869563  \n",
              "4  6.438760  30.34186  0.805188  6.724585  0.681946  "
            ],
            "text/html": [
              "\n",
              "  <div id=\"df-90f15592-b99f-4b4d-b9d0-9f42b532fae1\" class=\"colab-df-container\">\n",
              "    <div>\n",
              "<style scoped>\n",
              "    .dataframe tbody tr th:only-of-type {\n",
              "        vertical-align: middle;\n",
              "    }\n",
              "\n",
              "    .dataframe tbody tr th {\n",
              "        vertical-align: top;\n",
              "    }\n",
              "\n",
              "    .dataframe thead th {\n",
              "        text-align: right;\n",
              "    }\n",
              "</style>\n",
              "<table border=\"1\" class=\"dataframe\">\n",
              "  <thead>\n",
              "    <tr style=\"text-align: right;\">\n",
              "      <th></th>\n",
              "      <th>date</th>\n",
              "      <th>time</th>\n",
              "      <th>Severity</th>\n",
              "      <th>temperature_2m</th>\n",
              "      <th>relative_humidity_2m</th>\n",
              "      <th>precipitation</th>\n",
              "      <th>surface_pressure</th>\n",
              "      <th>cloud_cover</th>\n",
              "      <th>wind_speed_10m</th>\n",
              "      <th>soil_temperature_0_to_7cm</th>\n",
              "      <th>soil_temperature_7_to_28cm</th>\n",
              "      <th>soil_moisture_0_to_7cm</th>\n",
              "      <th>soil_moisture_7_to_28cm</th>\n",
              "      <th>forest_fire</th>\n",
              "      <th>FFMC</th>\n",
              "      <th>DMC</th>\n",
              "      <th>DC</th>\n",
              "      <th>ISI</th>\n",
              "      <th>BUI</th>\n",
              "      <th>FWI</th>\n",
              "    </tr>\n",
              "  </thead>\n",
              "  <tbody>\n",
              "    <tr>\n",
              "      <th>0</th>\n",
              "      <td>01-01-20</td>\n",
              "      <td>7:00:00</td>\n",
              "      <td>0.0</td>\n",
              "      <td>6.061000</td>\n",
              "      <td>67.824059</td>\n",
              "      <td>0.0</td>\n",
              "      <td>933.246216</td>\n",
              "      <td>20.400002</td>\n",
              "      <td>6.638072</td>\n",
              "      <td>6.061</td>\n",
              "      <td>8.061001</td>\n",
              "      <td>0.364</td>\n",
              "      <td>0.372</td>\n",
              "      <td>0</td>\n",
              "      <td>85.213481</td>\n",
              "      <td>6.422435</td>\n",
              "      <td>20.48494</td>\n",
              "      <td>0.820074</td>\n",
              "      <td>6.535365</td>\n",
              "      <td>0.692174</td>\n",
              "    </tr>\n",
              "    <tr>\n",
              "      <th>1</th>\n",
              "      <td>01-01-20</td>\n",
              "      <td>9:00:00</td>\n",
              "      <td>0.0</td>\n",
              "      <td>3.861000</td>\n",
              "      <td>77.639603</td>\n",
              "      <td>0.0</td>\n",
              "      <td>931.856018</td>\n",
              "      <td>26.700001</td>\n",
              "      <td>4.693825</td>\n",
              "      <td>5.311</td>\n",
              "      <td>7.761000</td>\n",
              "      <td>0.364</td>\n",
              "      <td>0.372</td>\n",
              "      <td>0</td>\n",
              "      <td>84.465548</td>\n",
              "      <td>6.424326</td>\n",
              "      <td>22.43392</td>\n",
              "      <td>0.489779</td>\n",
              "      <td>6.578585</td>\n",
              "      <td>0.413716</td>\n",
              "    </tr>\n",
              "    <tr>\n",
              "      <th>2</th>\n",
              "      <td>01-01-20</td>\n",
              "      <td>12:00:00</td>\n",
              "      <td>0.0</td>\n",
              "      <td>4.361000</td>\n",
              "      <td>75.236038</td>\n",
              "      <td>0.0</td>\n",
              "      <td>931.915161</td>\n",
              "      <td>14.400001</td>\n",
              "      <td>4.610250</td>\n",
              "      <td>3.911</td>\n",
              "      <td>6.961000</td>\n",
              "      <td>0.359</td>\n",
              "      <td>0.370</td>\n",
              "      <td>0</td>\n",
              "      <td>84.229353</td>\n",
              "      <td>6.426632</td>\n",
              "      <td>24.47290</td>\n",
              "      <td>0.462396</td>\n",
              "      <td>6.619842</td>\n",
              "      <td>0.390879</td>\n",
              "    </tr>\n",
              "    <tr>\n",
              "      <th>3</th>\n",
              "      <td>01-01-20</td>\n",
              "      <td>15:00:00</td>\n",
              "      <td>0.0</td>\n",
              "      <td>6.111000</td>\n",
              "      <td>73.412125</td>\n",
              "      <td>0.0</td>\n",
              "      <td>932.712647</td>\n",
              "      <td>20.700001</td>\n",
              "      <td>8.788720</td>\n",
              "      <td>4.611</td>\n",
              "      <td>6.511000</td>\n",
              "      <td>0.359</td>\n",
              "      <td>0.369</td>\n",
              "      <td>0</td>\n",
              "      <td>84.497521</td>\n",
              "      <td>6.429900</td>\n",
              "      <td>26.82688</td>\n",
              "      <td>1.027850</td>\n",
              "      <td>6.663422</td>\n",
              "      <td>0.869563</td>\n",
              "    </tr>\n",
              "    <tr>\n",
              "      <th>4</th>\n",
              "      <td>01-01-20</td>\n",
              "      <td>18:00:00</td>\n",
              "      <td>0.0</td>\n",
              "      <td>12.561001</td>\n",
              "      <td>61.951244</td>\n",
              "      <td>0.0</td>\n",
              "      <td>934.771851</td>\n",
              "      <td>0.000000</td>\n",
              "      <td>6.489992</td>\n",
              "      <td>7.461</td>\n",
              "      <td>6.511000</td>\n",
              "      <td>0.358</td>\n",
              "      <td>0.369</td>\n",
              "      <td>0</td>\n",
              "      <td>85.265795</td>\n",
              "      <td>6.438760</td>\n",
              "      <td>30.34186</td>\n",
              "      <td>0.805188</td>\n",
              "      <td>6.724585</td>\n",
              "      <td>0.681946</td>\n",
              "    </tr>\n",
              "  </tbody>\n",
              "</table>\n",
              "</div>\n",
              "    <div class=\"colab-df-buttons\">\n",
              "\n",
              "  <div class=\"colab-df-container\">\n",
              "    <button class=\"colab-df-convert\" onclick=\"convertToInteractive('df-90f15592-b99f-4b4d-b9d0-9f42b532fae1')\"\n",
              "            title=\"Convert this dataframe to an interactive table.\"\n",
              "            style=\"display:none;\">\n",
              "\n",
              "  <svg xmlns=\"http://www.w3.org/2000/svg\" height=\"24px\" viewBox=\"0 -960 960 960\">\n",
              "    <path d=\"M120-120v-720h720v720H120Zm60-500h600v-160H180v160Zm220 220h160v-160H400v160Zm0 220h160v-160H400v160ZM180-400h160v-160H180v160Zm440 0h160v-160H620v160ZM180-180h160v-160H180v160Zm440 0h160v-160H620v160Z\"/>\n",
              "  </svg>\n",
              "    </button>\n",
              "\n",
              "  <style>\n",
              "    .colab-df-container {\n",
              "      display:flex;\n",
              "      gap: 12px;\n",
              "    }\n",
              "\n",
              "    .colab-df-convert {\n",
              "      background-color: #E8F0FE;\n",
              "      border: none;\n",
              "      border-radius: 50%;\n",
              "      cursor: pointer;\n",
              "      display: none;\n",
              "      fill: #1967D2;\n",
              "      height: 32px;\n",
              "      padding: 0 0 0 0;\n",
              "      width: 32px;\n",
              "    }\n",
              "\n",
              "    .colab-df-convert:hover {\n",
              "      background-color: #E2EBFA;\n",
              "      box-shadow: 0px 1px 2px rgba(60, 64, 67, 0.3), 0px 1px 3px 1px rgba(60, 64, 67, 0.15);\n",
              "      fill: #174EA6;\n",
              "    }\n",
              "\n",
              "    .colab-df-buttons div {\n",
              "      margin-bottom: 4px;\n",
              "    }\n",
              "\n",
              "    [theme=dark] .colab-df-convert {\n",
              "      background-color: #3B4455;\n",
              "      fill: #D2E3FC;\n",
              "    }\n",
              "\n",
              "    [theme=dark] .colab-df-convert:hover {\n",
              "      background-color: #434B5C;\n",
              "      box-shadow: 0px 1px 3px 1px rgba(0, 0, 0, 0.15);\n",
              "      filter: drop-shadow(0px 1px 2px rgba(0, 0, 0, 0.3));\n",
              "      fill: #FFFFFF;\n",
              "    }\n",
              "  </style>\n",
              "\n",
              "    <script>\n",
              "      const buttonEl =\n",
              "        document.querySelector('#df-90f15592-b99f-4b4d-b9d0-9f42b532fae1 button.colab-df-convert');\n",
              "      buttonEl.style.display =\n",
              "        google.colab.kernel.accessAllowed ? 'block' : 'none';\n",
              "\n",
              "      async function convertToInteractive(key) {\n",
              "        const element = document.querySelector('#df-90f15592-b99f-4b4d-b9d0-9f42b532fae1');\n",
              "        const dataTable =\n",
              "          await google.colab.kernel.invokeFunction('convertToInteractive',\n",
              "                                                    [key], {});\n",
              "        if (!dataTable) return;\n",
              "\n",
              "        const docLinkHtml = 'Like what you see? Visit the ' +\n",
              "          '<a target=\"_blank\" href=https://colab.research.google.com/notebooks/data_table.ipynb>data table notebook</a>'\n",
              "          + ' to learn more about interactive tables.';\n",
              "        element.innerHTML = '';\n",
              "        dataTable['output_type'] = 'display_data';\n",
              "        await google.colab.output.renderOutput(dataTable, element);\n",
              "        const docLink = document.createElement('div');\n",
              "        docLink.innerHTML = docLinkHtml;\n",
              "        element.appendChild(docLink);\n",
              "      }\n",
              "    </script>\n",
              "  </div>\n",
              "\n",
              "\n",
              "<div id=\"df-96d42c6b-6d7c-4ce0-b528-5815822b82c5\">\n",
              "  <button class=\"colab-df-quickchart\" onclick=\"quickchart('df-96d42c6b-6d7c-4ce0-b528-5815822b82c5')\"\n",
              "            title=\"Suggest charts\"\n",
              "            style=\"display:none;\">\n",
              "\n",
              "<svg xmlns=\"http://www.w3.org/2000/svg\" height=\"24px\"viewBox=\"0 0 24 24\"\n",
              "     width=\"24px\">\n",
              "    <g>\n",
              "        <path d=\"M19 3H5c-1.1 0-2 .9-2 2v14c0 1.1.9 2 2 2h14c1.1 0 2-.9 2-2V5c0-1.1-.9-2-2-2zM9 17H7v-7h2v7zm4 0h-2V7h2v10zm4 0h-2v-4h2v4z\"/>\n",
              "    </g>\n",
              "</svg>\n",
              "  </button>\n",
              "\n",
              "<style>\n",
              "  .colab-df-quickchart {\n",
              "      --bg-color: #E8F0FE;\n",
              "      --fill-color: #1967D2;\n",
              "      --hover-bg-color: #E2EBFA;\n",
              "      --hover-fill-color: #174EA6;\n",
              "      --disabled-fill-color: #AAA;\n",
              "      --disabled-bg-color: #DDD;\n",
              "  }\n",
              "\n",
              "  [theme=dark] .colab-df-quickchart {\n",
              "      --bg-color: #3B4455;\n",
              "      --fill-color: #D2E3FC;\n",
              "      --hover-bg-color: #434B5C;\n",
              "      --hover-fill-color: #FFFFFF;\n",
              "      --disabled-bg-color: #3B4455;\n",
              "      --disabled-fill-color: #666;\n",
              "  }\n",
              "\n",
              "  .colab-df-quickchart {\n",
              "    background-color: var(--bg-color);\n",
              "    border: none;\n",
              "    border-radius: 50%;\n",
              "    cursor: pointer;\n",
              "    display: none;\n",
              "    fill: var(--fill-color);\n",
              "    height: 32px;\n",
              "    padding: 0;\n",
              "    width: 32px;\n",
              "  }\n",
              "\n",
              "  .colab-df-quickchart:hover {\n",
              "    background-color: var(--hover-bg-color);\n",
              "    box-shadow: 0 1px 2px rgba(60, 64, 67, 0.3), 0 1px 3px 1px rgba(60, 64, 67, 0.15);\n",
              "    fill: var(--button-hover-fill-color);\n",
              "  }\n",
              "\n",
              "  .colab-df-quickchart-complete:disabled,\n",
              "  .colab-df-quickchart-complete:disabled:hover {\n",
              "    background-color: var(--disabled-bg-color);\n",
              "    fill: var(--disabled-fill-color);\n",
              "    box-shadow: none;\n",
              "  }\n",
              "\n",
              "  .colab-df-spinner {\n",
              "    border: 2px solid var(--fill-color);\n",
              "    border-color: transparent;\n",
              "    border-bottom-color: var(--fill-color);\n",
              "    animation:\n",
              "      spin 1s steps(1) infinite;\n",
              "  }\n",
              "\n",
              "  @keyframes spin {\n",
              "    0% {\n",
              "      border-color: transparent;\n",
              "      border-bottom-color: var(--fill-color);\n",
              "      border-left-color: var(--fill-color);\n",
              "    }\n",
              "    20% {\n",
              "      border-color: transparent;\n",
              "      border-left-color: var(--fill-color);\n",
              "      border-top-color: var(--fill-color);\n",
              "    }\n",
              "    30% {\n",
              "      border-color: transparent;\n",
              "      border-left-color: var(--fill-color);\n",
              "      border-top-color: var(--fill-color);\n",
              "      border-right-color: var(--fill-color);\n",
              "    }\n",
              "    40% {\n",
              "      border-color: transparent;\n",
              "      border-right-color: var(--fill-color);\n",
              "      border-top-color: var(--fill-color);\n",
              "    }\n",
              "    60% {\n",
              "      border-color: transparent;\n",
              "      border-right-color: var(--fill-color);\n",
              "    }\n",
              "    80% {\n",
              "      border-color: transparent;\n",
              "      border-right-color: var(--fill-color);\n",
              "      border-bottom-color: var(--fill-color);\n",
              "    }\n",
              "    90% {\n",
              "      border-color: transparent;\n",
              "      border-bottom-color: var(--fill-color);\n",
              "    }\n",
              "  }\n",
              "</style>\n",
              "\n",
              "  <script>\n",
              "    async function quickchart(key) {\n",
              "      const quickchartButtonEl =\n",
              "        document.querySelector('#' + key + ' button');\n",
              "      quickchartButtonEl.disabled = true;  // To prevent multiple clicks.\n",
              "      quickchartButtonEl.classList.add('colab-df-spinner');\n",
              "      try {\n",
              "        const charts = await google.colab.kernel.invokeFunction(\n",
              "            'suggestCharts', [key], {});\n",
              "      } catch (error) {\n",
              "        console.error('Error during call to suggestCharts:', error);\n",
              "      }\n",
              "      quickchartButtonEl.classList.remove('colab-df-spinner');\n",
              "      quickchartButtonEl.classList.add('colab-df-quickchart-complete');\n",
              "    }\n",
              "    (() => {\n",
              "      let quickchartButtonEl =\n",
              "        document.querySelector('#df-96d42c6b-6d7c-4ce0-b528-5815822b82c5 button');\n",
              "      quickchartButtonEl.style.display =\n",
              "        google.colab.kernel.accessAllowed ? 'block' : 'none';\n",
              "    })();\n",
              "  </script>\n",
              "</div>\n",
              "\n",
              "    </div>\n",
              "  </div>\n"
            ],
            "application/vnd.google.colaboratory.intrinsic+json": {
              "type": "dataframe",
              "variable_name": "df",
              "summary": "{\n  \"name\": \"df\",\n  \"rows\": 17201,\n  \"fields\": [\n    {\n      \"column\": \"date\",\n      \"properties\": {\n        \"dtype\": \"object\",\n        \"num_unique_values\": 1462,\n        \"samples\": [\n          \"06-11-22\",\n          \"01-11-23\",\n          \"02-17-21\"\n        ],\n        \"semantic_type\": \"\",\n        \"description\": \"\"\n      }\n    },\n    {\n      \"column\": \"time\",\n      \"properties\": {\n        \"dtype\": \"object\",\n        \"num_unique_values\": 15,\n        \"samples\": [\n          \"22:00:00\",\n          \"11:00:00\",\n          \"7:00:00\"\n        ],\n        \"semantic_type\": \"\",\n        \"description\": \"\"\n      }\n    },\n    {\n      \"column\": \"Severity\",\n      \"properties\": {\n        \"dtype\": \"number\",\n        \"std\": 15.205383304465316,\n        \"min\": 0.0,\n        \"max\": 40.15253825,\n        \"num_unique_values\": 4947,\n        \"samples\": [\n          28.35413968,\n          30.24514096,\n          30.00033805\n        ],\n        \"semantic_type\": \"\",\n        \"description\": \"\"\n      }\n    },\n    {\n      \"column\": \"temperature_2m\",\n      \"properties\": {\n        \"dtype\": \"number\",\n        \"std\": 10.036548404136527,\n        \"min\": -5.789000034,\n        \"max\": 42.5815,\n        \"num_unique_values\": 5551,\n        \"samples\": [\n          31.7065,\n          14.741,\n          35.017998\n        ],\n        \"semantic_type\": \"\",\n        \"description\": \"\"\n      }\n    },\n    {\n      \"column\": \"relative_humidity_2m\",\n      \"properties\": {\n        \"dtype\": \"number\",\n        \"std\": 26.954369045248725,\n        \"min\": 3.746480227,\n        \"max\": 100.0,\n        \"num_unique_values\": 16023,\n        \"samples\": [\n          25.51689148,\n          25.3028698,\n          96.56536102\n        ],\n        \"semantic_type\": \"\",\n        \"description\": \"\"\n      }\n    },\n    {\n      \"column\": \"precipitation\",\n      \"properties\": {\n        \"dtype\": \"number\",\n        \"std\": 0.33426566920209855,\n        \"min\": 0.0,\n        \"max\": 12.30000019,\n        \"num_unique_values\": 59,\n        \"samples\": [\n          0.0,\n          0.600000024,\n          2.200000048\n        ],\n        \"semantic_type\": \"\",\n        \"description\": \"\"\n      }\n    },\n    {\n      \"column\": \"surface_pressure\",\n      \"properties\": {\n        \"dtype\": \"number\",\n        \"std\": 15.148708243601597,\n        \"min\": 877.0111,\n        \"max\": 1019.04175,\n        \"num_unique_values\": 15608,\n        \"samples\": [\n          935.424,\n          932.2121582,\n          927.8816528\n        ],\n        \"semantic_type\": \"\",\n        \"description\": \"\"\n      }\n    },\n    {\n      \"column\": \"cloud_cover\",\n      \"properties\": {\n        \"dtype\": \"number\",\n        \"std\": 29.693117363086166,\n        \"min\": 0.0,\n        \"max\": 100.0,\n        \"num_unique_values\": 750,\n        \"samples\": [\n          46.5,\n          1.5,\n          38.70000076\n        ],\n        \"semantic_type\": \"\",\n        \"description\": \"\"\n      }\n    },\n    {\n      \"column\": \"wind_speed_10m\",\n      \"properties\": {\n        \"dtype\": \"number\",\n        \"std\": 4.760565580436566,\n        \"min\": 0.0,\n        \"max\": 33.9317894,\n        \"num_unique_values\": 1477,\n        \"samples\": [\n          7.628263,\n          14.05844975,\n          14.291592\n        ],\n        \"semantic_type\": \"\",\n        \"description\": \"\"\n      }\n    },\n    {\n      \"column\": \"soil_temperature_0_to_7cm\",\n      \"properties\": {\n        \"dtype\": \"number\",\n        \"std\": 10.399369286694768,\n        \"min\": -0.43900001,\n        \"max\": 44.717,\n        \"num_unique_values\": 5538,\n        \"samples\": [\n          23.5245,\n          43.469,\n          40.255997\n        ],\n        \"semantic_type\": \"\",\n        \"description\": \"\"\n      }\n    },\n    {\n      \"column\": \"soil_temperature_7_to_28cm\",\n      \"properties\": {\n        \"dtype\": \"number\",\n        \"std\": 8.782582521221016,\n        \"min\": 3.010999918,\n        \"max\": 35.8365,\n        \"num_unique_values\": 5179,\n        \"samples\": [\n          28.4025,\n          30.134998,\n          31.33\n        ],\n        \"semantic_type\": \"\",\n        \"description\": \"\"\n      }\n    },\n    {\n      \"column\": \"soil_moisture_0_to_7cm\",\n      \"properties\": {\n        \"dtype\": \"number\",\n        \"std\": 0.09031480680004253,\n        \"min\": 0.066,\n        \"max\": 0.451,\n        \"num_unique_values\": 420,\n        \"samples\": [\n          0.187000006,\n          0.317,\n          0.416999996\n        ],\n        \"semantic_type\": \"\",\n        \"description\": \"\"\n      }\n    },\n    {\n      \"column\": \"soil_moisture_7_to_28cm\",\n      \"properties\": {\n        \"dtype\": \"number\",\n        \"std\": 0.07959716065832058,\n        \"min\": 0.128,\n        \"max\": 0.473,\n        \"num_unique_values\": 405,\n        \"samples\": [\n          0.277999997,\n          0.187000006,\n          0.222\n        ],\n        \"semantic_type\": \"\",\n        \"description\": \"\"\n      }\n    },\n    {\n      \"column\": \"forest_fire\",\n      \"properties\": {\n        \"dtype\": \"number\",\n        \"std\": 0,\n        \"min\": 0,\n        \"max\": 1,\n        \"num_unique_values\": 2,\n        \"samples\": [\n          1,\n          0\n        ],\n        \"semantic_type\": \"\",\n        \"description\": \"\"\n      }\n    },\n    {\n      \"column\": \"FFMC\",\n      \"properties\": {\n        \"dtype\": \"number\",\n        \"std\": 13.600417238377675,\n        \"min\": 10.49714121,\n        \"max\": 101.0,\n        \"num_unique_values\": 12915,\n        \"samples\": [\n          89.93835101,\n          97.00005238\n        ],\n        \"semantic_type\": \"\",\n        \"description\": \"\"\n      }\n    },\n    {\n      \"column\": \"DMC\",\n      \"properties\": {\n        \"dtype\": \"number\",\n        \"std\": 108.07628179450586,\n        \"min\": 6.422435357,\n        \"max\": 548.1071348,\n        \"num_unique_values\": 17094,\n        \"samples\": [\n          60.39722452,\n          212.1301734\n        ],\n        \"semantic_type\": \"\",\n        \"description\": \"\"\n      }\n    },\n    {\n      \"column\": \"DC\",\n      \"properties\": {\n        \"dtype\": \"number\",\n        \"std\": 89.07218794261752,\n        \"min\": 20.48493993,\n        \"max\": 1000.0,\n        \"num_unique_values\": 1512,\n        \"samples\": [\n          807.721265,\n          953.5330802\n        ],\n        \"semantic_type\": \"\",\n        \"description\": \"\"\n      }\n    },\n    {\n      \"column\": \"ISI\",\n      \"properties\": {\n        \"dtype\": \"number\",\n        \"std\": 7.735883393476618,\n        \"min\": 0.0,\n        \"max\": 69.89315955,\n        \"num_unique_values\": 13514,\n        \"samples\": [\n          6.266374353,\n          0.8165354752\n        ],\n        \"semantic_type\": \"\",\n        \"description\": \"\"\n      }\n    },\n    {\n      \"column\": \"BUI\",\n      \"properties\": {\n        \"dtype\": \"number\",\n        \"std\": 90.40536183514887,\n        \"min\": 6.53536478,\n        \"max\": 462.4854004,\n        \"num_unique_values\": 17145,\n        \"samples\": [\n          92.850955,\n          38.69363155\n        ],\n        \"semantic_type\": \"\",\n        \"description\": \"\"\n      }\n    },\n    {\n      \"column\": \"FWI\",\n      \"properties\": {\n        \"dtype\": \"number\",\n        \"std\": 19.14419845048393,\n        \"min\": 0.0,\n        \"max\": 92.36552847,\n        \"num_unique_values\": 17178,\n        \"samples\": [\n          10.88801539,\n          34.34247132\n        ],\n        \"semantic_type\": \"\",\n        \"description\": \"\"\n      }\n    }\n  ]\n}"
            }
          },
          "metadata": {},
          "execution_count": 4
        }
      ]
    },
    {
      "cell_type": "markdown",
      "metadata": {
        "id": "M6zFhvT0JASx"
      },
      "source": [
        "### **5.4 Summary of dataset**"
      ]
    },
    {
      "cell_type": "code",
      "metadata": {
        "trusted": true,
        "id": "dt2vFOatJASx",
        "colab": {
          "base_uri": "https://localhost:8080/"
        },
        "outputId": "d4de6e5a-d107-412e-defd-6a91d57ac0ab"
      },
      "source": [
        "# view summary of dataset\n",
        "df.info()"
      ],
      "execution_count": 5,
      "outputs": [
        {
          "output_type": "stream",
          "name": "stdout",
          "text": [
            "<class 'pandas.core.frame.DataFrame'>\n",
            "RangeIndex: 17201 entries, 0 to 17200\n",
            "Data columns (total 20 columns):\n",
            " #   Column                      Non-Null Count  Dtype  \n",
            "---  ------                      --------------  -----  \n",
            " 0   date                        17201 non-null  object \n",
            " 1   time                        17201 non-null  object \n",
            " 2   Severity                    17201 non-null  float64\n",
            " 3   temperature_2m              17201 non-null  float64\n",
            " 4   relative_humidity_2m        17201 non-null  float64\n",
            " 5   precipitation               17201 non-null  float64\n",
            " 6   surface_pressure            17201 non-null  float64\n",
            " 7   cloud_cover                 17201 non-null  float64\n",
            " 8   wind_speed_10m              17201 non-null  float64\n",
            " 9   soil_temperature_0_to_7cm   17201 non-null  float64\n",
            " 10  soil_temperature_7_to_28cm  17201 non-null  float64\n",
            " 11  soil_moisture_0_to_7cm      17201 non-null  float64\n",
            " 12  soil_moisture_7_to_28cm     17201 non-null  float64\n",
            " 13  forest_fire                 17201 non-null  int64  \n",
            " 14  FFMC                        17201 non-null  float64\n",
            " 15  DMC                         17201 non-null  float64\n",
            " 16  DC                          17201 non-null  float64\n",
            " 17  ISI                         17201 non-null  float64\n",
            " 18  BUI                         17201 non-null  float64\n",
            " 19  FWI                         17201 non-null  float64\n",
            "dtypes: float64(17), int64(1), object(2)\n",
            "memory usage: 2.6+ MB\n"
          ]
        }
      ]
    },
    {
      "cell_type": "markdown",
      "metadata": {
        "id": "_H0tflN8JASy"
      },
      "source": [
        "- We can see that there are 6 columns in the dataset and there are no missing values."
      ]
    },
    {
      "cell_type": "markdown",
      "metadata": {
        "id": "1AWh1ea-JASy"
      },
      "source": [
        "### **5.5 Check the distribution of target variable**\n",
        "\n",
        "-  Target variable is `diagnosis`\n",
        "-  check the distribution of the target variable."
      ]
    },
    {
      "cell_type": "code",
      "metadata": {
        "trusted": true,
        "id": "Iq9dQm7KJASz",
        "colab": {
          "base_uri": "https://localhost:8080/",
          "height": 178
        },
        "outputId": "09622a5e-de29-428c-a4ed-563ecdf40775"
      },
      "source": [
        "# check the distribution of the target variable\n",
        "df['forest_fire'].value_counts()"
      ],
      "execution_count": 9,
      "outputs": [
        {
          "output_type": "execute_result",
          "data": {
            "text/plain": [
              "forest_fire\n",
              "0    11688\n",
              "1     5513\n",
              "Name: count, dtype: int64"
            ],
            "text/html": [
              "<div>\n",
              "<style scoped>\n",
              "    .dataframe tbody tr th:only-of-type {\n",
              "        vertical-align: middle;\n",
              "    }\n",
              "\n",
              "    .dataframe tbody tr th {\n",
              "        vertical-align: top;\n",
              "    }\n",
              "\n",
              "    .dataframe thead th {\n",
              "        text-align: right;\n",
              "    }\n",
              "</style>\n",
              "<table border=\"1\" class=\"dataframe\">\n",
              "  <thead>\n",
              "    <tr style=\"text-align: right;\">\n",
              "      <th></th>\n",
              "      <th>count</th>\n",
              "    </tr>\n",
              "    <tr>\n",
              "      <th>forest_fire</th>\n",
              "      <th></th>\n",
              "    </tr>\n",
              "  </thead>\n",
              "  <tbody>\n",
              "    <tr>\n",
              "      <th>0</th>\n",
              "      <td>11688</td>\n",
              "    </tr>\n",
              "    <tr>\n",
              "      <th>1</th>\n",
              "      <td>5513</td>\n",
              "    </tr>\n",
              "  </tbody>\n",
              "</table>\n",
              "</div><br><label><b>dtype:</b> int64</label>"
            ]
          },
          "metadata": {},
          "execution_count": 9
        }
      ]
    },
    {
      "cell_type": "markdown",
      "metadata": {
        "id": "_ODXCokHJASz"
      },
      "source": [
        "- The target variable is `diagnosis`. It contains 2 values - 0 and 1.\n",
        "\n",
        "- `0` is for **Negative prediction** and `1` for **Positive prediction**.\n",
        "\n",
        "- We  can see that the problem is binary classification task."
      ]
    },
    {
      "cell_type": "markdown",
      "metadata": {
        "id": "r6EMzRKfJAS0"
      },
      "source": [
        "### **5.6 Declare feature vector and target variable**"
      ]
    },
    {
      "cell_type": "markdown",
      "source": [],
      "metadata": {
        "id": "QCNH9B63T4Od"
      }
    },
    {
      "cell_type": "code",
      "metadata": {
        "trusted": true,
        "id": "THazGIMuJAS0"
      },
      "source": [
        "X = df[['temperature_2m','relative_humidity_2m','precipitation','wind_speed_10m','FFMC','DMC','DC','ISI','BUI','FWI']]\n",
        "y = df['forest_fire']"
      ],
      "execution_count": 10,
      "outputs": []
    },
    {
      "cell_type": "markdown",
      "metadata": {
        "id": "VVOw6X9pJAS0"
      },
      "source": [
        "### **5.7 Split data into training and test set**"
      ]
    },
    {
      "cell_type": "code",
      "metadata": {
        "trusted": true,
        "id": "G1_FqNuQJAS0"
      },
      "source": [
        "# split the dataset into the training set and test set\n",
        "from sklearn.model_selection import train_test_split\n",
        "X_train, X_test, y_train, y_test = train_test_split(X, y, test_size = 0.3, random_state = 0)"
      ],
      "execution_count": 11,
      "outputs": []
    },
    {
      "cell_type": "markdown",
      "metadata": {
        "id": "GTYVG4GyJAS1"
      },
      "source": [
        "### **5.8 LightGBM model development and training**\n",
        "\n",
        "\n",
        "- We need to convert our training data into LightGBM dataset format(this is mandatory for LightGBM training).\n",
        "\n",
        "- After creating the necessary dataset, we created a python dictionary with parameters and their values.\n",
        "\n",
        "- Accuracy of the model depends on the values we provide to the parameters.\n",
        "\n",
        "- In the end block of code, we simply trained model with 100 iterations."
      ]
    },
    {
      "cell_type": "code",
      "metadata": {
        "trusted": true,
        "id": "uiijtF7jJAS1",
        "colab": {
          "base_uri": "https://localhost:8080/",
          "height": 223
        },
        "outputId": "d3f059cc-65d8-427a-a8a4-d6c886252f8d"
      },
      "source": [
        "# build the lightgbm model\n",
        "import lightgbm as lgb\n",
        "clf = lgb.LGBMClassifier()\n",
        "clf.fit(X_train, y_train)"
      ],
      "execution_count": 12,
      "outputs": [
        {
          "output_type": "stream",
          "name": "stdout",
          "text": [
            "[LightGBM] [Info] Number of positive: 3820, number of negative: 8220\n",
            "[LightGBM] [Info] Auto-choosing row-wise multi-threading, the overhead of testing was 0.001101 seconds.\n",
            "You can set `force_row_wise=true` to remove the overhead.\n",
            "And if memory is not enough, you can set `force_col_wise=true`.\n",
            "[LightGBM] [Info] Total Bins 2335\n",
            "[LightGBM] [Info] Number of data points in the train set: 12040, number of used features: 10\n",
            "[LightGBM] [Info] [binary:BoostFromScore]: pavg=0.317276 -> initscore=-0.766320\n",
            "[LightGBM] [Info] Start training from score -0.766320\n"
          ]
        },
        {
          "output_type": "execute_result",
          "data": {
            "text/plain": [
              "LGBMClassifier()"
            ],
            "text/html": [
              "<style>#sk-container-id-1 {\n",
              "  /* Definition of color scheme common for light and dark mode */\n",
              "  --sklearn-color-text: #000;\n",
              "  --sklearn-color-text-muted: #666;\n",
              "  --sklearn-color-line: gray;\n",
              "  /* Definition of color scheme for unfitted estimators */\n",
              "  --sklearn-color-unfitted-level-0: #fff5e6;\n",
              "  --sklearn-color-unfitted-level-1: #f6e4d2;\n",
              "  --sklearn-color-unfitted-level-2: #ffe0b3;\n",
              "  --sklearn-color-unfitted-level-3: chocolate;\n",
              "  /* Definition of color scheme for fitted estimators */\n",
              "  --sklearn-color-fitted-level-0: #f0f8ff;\n",
              "  --sklearn-color-fitted-level-1: #d4ebff;\n",
              "  --sklearn-color-fitted-level-2: #b3dbfd;\n",
              "  --sklearn-color-fitted-level-3: cornflowerblue;\n",
              "\n",
              "  /* Specific color for light theme */\n",
              "  --sklearn-color-text-on-default-background: var(--sg-text-color, var(--theme-code-foreground, var(--jp-content-font-color1, black)));\n",
              "  --sklearn-color-background: var(--sg-background-color, var(--theme-background, var(--jp-layout-color0, white)));\n",
              "  --sklearn-color-border-box: var(--sg-text-color, var(--theme-code-foreground, var(--jp-content-font-color1, black)));\n",
              "  --sklearn-color-icon: #696969;\n",
              "\n",
              "  @media (prefers-color-scheme: dark) {\n",
              "    /* Redefinition of color scheme for dark theme */\n",
              "    --sklearn-color-text-on-default-background: var(--sg-text-color, var(--theme-code-foreground, var(--jp-content-font-color1, white)));\n",
              "    --sklearn-color-background: var(--sg-background-color, var(--theme-background, var(--jp-layout-color0, #111)));\n",
              "    --sklearn-color-border-box: var(--sg-text-color, var(--theme-code-foreground, var(--jp-content-font-color1, white)));\n",
              "    --sklearn-color-icon: #878787;\n",
              "  }\n",
              "}\n",
              "\n",
              "#sk-container-id-1 {\n",
              "  color: var(--sklearn-color-text);\n",
              "}\n",
              "\n",
              "#sk-container-id-1 pre {\n",
              "  padding: 0;\n",
              "}\n",
              "\n",
              "#sk-container-id-1 input.sk-hidden--visually {\n",
              "  border: 0;\n",
              "  clip: rect(1px 1px 1px 1px);\n",
              "  clip: rect(1px, 1px, 1px, 1px);\n",
              "  height: 1px;\n",
              "  margin: -1px;\n",
              "  overflow: hidden;\n",
              "  padding: 0;\n",
              "  position: absolute;\n",
              "  width: 1px;\n",
              "}\n",
              "\n",
              "#sk-container-id-1 div.sk-dashed-wrapped {\n",
              "  border: 1px dashed var(--sklearn-color-line);\n",
              "  margin: 0 0.4em 0.5em 0.4em;\n",
              "  box-sizing: border-box;\n",
              "  padding-bottom: 0.4em;\n",
              "  background-color: var(--sklearn-color-background);\n",
              "}\n",
              "\n",
              "#sk-container-id-1 div.sk-container {\n",
              "  /* jupyter's `normalize.less` sets `[hidden] { display: none; }`\n",
              "     but bootstrap.min.css set `[hidden] { display: none !important; }`\n",
              "     so we also need the `!important` here to be able to override the\n",
              "     default hidden behavior on the sphinx rendered scikit-learn.org.\n",
              "     See: https://github.com/scikit-learn/scikit-learn/issues/21755 */\n",
              "  display: inline-block !important;\n",
              "  position: relative;\n",
              "}\n",
              "\n",
              "#sk-container-id-1 div.sk-text-repr-fallback {\n",
              "  display: none;\n",
              "}\n",
              "\n",
              "div.sk-parallel-item,\n",
              "div.sk-serial,\n",
              "div.sk-item {\n",
              "  /* draw centered vertical line to link estimators */\n",
              "  background-image: linear-gradient(var(--sklearn-color-text-on-default-background), var(--sklearn-color-text-on-default-background));\n",
              "  background-size: 2px 100%;\n",
              "  background-repeat: no-repeat;\n",
              "  background-position: center center;\n",
              "}\n",
              "\n",
              "/* Parallel-specific style estimator block */\n",
              "\n",
              "#sk-container-id-1 div.sk-parallel-item::after {\n",
              "  content: \"\";\n",
              "  width: 100%;\n",
              "  border-bottom: 2px solid var(--sklearn-color-text-on-default-background);\n",
              "  flex-grow: 1;\n",
              "}\n",
              "\n",
              "#sk-container-id-1 div.sk-parallel {\n",
              "  display: flex;\n",
              "  align-items: stretch;\n",
              "  justify-content: center;\n",
              "  background-color: var(--sklearn-color-background);\n",
              "  position: relative;\n",
              "}\n",
              "\n",
              "#sk-container-id-1 div.sk-parallel-item {\n",
              "  display: flex;\n",
              "  flex-direction: column;\n",
              "}\n",
              "\n",
              "#sk-container-id-1 div.sk-parallel-item:first-child::after {\n",
              "  align-self: flex-end;\n",
              "  width: 50%;\n",
              "}\n",
              "\n",
              "#sk-container-id-1 div.sk-parallel-item:last-child::after {\n",
              "  align-self: flex-start;\n",
              "  width: 50%;\n",
              "}\n",
              "\n",
              "#sk-container-id-1 div.sk-parallel-item:only-child::after {\n",
              "  width: 0;\n",
              "}\n",
              "\n",
              "/* Serial-specific style estimator block */\n",
              "\n",
              "#sk-container-id-1 div.sk-serial {\n",
              "  display: flex;\n",
              "  flex-direction: column;\n",
              "  align-items: center;\n",
              "  background-color: var(--sklearn-color-background);\n",
              "  padding-right: 1em;\n",
              "  padding-left: 1em;\n",
              "}\n",
              "\n",
              "\n",
              "/* Toggleable style: style used for estimator/Pipeline/ColumnTransformer box that is\n",
              "clickable and can be expanded/collapsed.\n",
              "- Pipeline and ColumnTransformer use this feature and define the default style\n",
              "- Estimators will overwrite some part of the style using the `sk-estimator` class\n",
              "*/\n",
              "\n",
              "/* Pipeline and ColumnTransformer style (default) */\n",
              "\n",
              "#sk-container-id-1 div.sk-toggleable {\n",
              "  /* Default theme specific background. It is overwritten whether we have a\n",
              "  specific estimator or a Pipeline/ColumnTransformer */\n",
              "  background-color: var(--sklearn-color-background);\n",
              "}\n",
              "\n",
              "/* Toggleable label */\n",
              "#sk-container-id-1 label.sk-toggleable__label {\n",
              "  cursor: pointer;\n",
              "  display: flex;\n",
              "  width: 100%;\n",
              "  margin-bottom: 0;\n",
              "  padding: 0.5em;\n",
              "  box-sizing: border-box;\n",
              "  text-align: center;\n",
              "  align-items: start;\n",
              "  justify-content: space-between;\n",
              "  gap: 0.5em;\n",
              "}\n",
              "\n",
              "#sk-container-id-1 label.sk-toggleable__label .caption {\n",
              "  font-size: 0.6rem;\n",
              "  font-weight: lighter;\n",
              "  color: var(--sklearn-color-text-muted);\n",
              "}\n",
              "\n",
              "#sk-container-id-1 label.sk-toggleable__label-arrow:before {\n",
              "  /* Arrow on the left of the label */\n",
              "  content: \"▸\";\n",
              "  float: left;\n",
              "  margin-right: 0.25em;\n",
              "  color: var(--sklearn-color-icon);\n",
              "}\n",
              "\n",
              "#sk-container-id-1 label.sk-toggleable__label-arrow:hover:before {\n",
              "  color: var(--sklearn-color-text);\n",
              "}\n",
              "\n",
              "/* Toggleable content - dropdown */\n",
              "\n",
              "#sk-container-id-1 div.sk-toggleable__content {\n",
              "  max-height: 0;\n",
              "  max-width: 0;\n",
              "  overflow: hidden;\n",
              "  text-align: left;\n",
              "  /* unfitted */\n",
              "  background-color: var(--sklearn-color-unfitted-level-0);\n",
              "}\n",
              "\n",
              "#sk-container-id-1 div.sk-toggleable__content.fitted {\n",
              "  /* fitted */\n",
              "  background-color: var(--sklearn-color-fitted-level-0);\n",
              "}\n",
              "\n",
              "#sk-container-id-1 div.sk-toggleable__content pre {\n",
              "  margin: 0.2em;\n",
              "  border-radius: 0.25em;\n",
              "  color: var(--sklearn-color-text);\n",
              "  /* unfitted */\n",
              "  background-color: var(--sklearn-color-unfitted-level-0);\n",
              "}\n",
              "\n",
              "#sk-container-id-1 div.sk-toggleable__content.fitted pre {\n",
              "  /* unfitted */\n",
              "  background-color: var(--sklearn-color-fitted-level-0);\n",
              "}\n",
              "\n",
              "#sk-container-id-1 input.sk-toggleable__control:checked~div.sk-toggleable__content {\n",
              "  /* Expand drop-down */\n",
              "  max-height: 200px;\n",
              "  max-width: 100%;\n",
              "  overflow: auto;\n",
              "}\n",
              "\n",
              "#sk-container-id-1 input.sk-toggleable__control:checked~label.sk-toggleable__label-arrow:before {\n",
              "  content: \"▾\";\n",
              "}\n",
              "\n",
              "/* Pipeline/ColumnTransformer-specific style */\n",
              "\n",
              "#sk-container-id-1 div.sk-label input.sk-toggleable__control:checked~label.sk-toggleable__label {\n",
              "  color: var(--sklearn-color-text);\n",
              "  background-color: var(--sklearn-color-unfitted-level-2);\n",
              "}\n",
              "\n",
              "#sk-container-id-1 div.sk-label.fitted input.sk-toggleable__control:checked~label.sk-toggleable__label {\n",
              "  background-color: var(--sklearn-color-fitted-level-2);\n",
              "}\n",
              "\n",
              "/* Estimator-specific style */\n",
              "\n",
              "/* Colorize estimator box */\n",
              "#sk-container-id-1 div.sk-estimator input.sk-toggleable__control:checked~label.sk-toggleable__label {\n",
              "  /* unfitted */\n",
              "  background-color: var(--sklearn-color-unfitted-level-2);\n",
              "}\n",
              "\n",
              "#sk-container-id-1 div.sk-estimator.fitted input.sk-toggleable__control:checked~label.sk-toggleable__label {\n",
              "  /* fitted */\n",
              "  background-color: var(--sklearn-color-fitted-level-2);\n",
              "}\n",
              "\n",
              "#sk-container-id-1 div.sk-label label.sk-toggleable__label,\n",
              "#sk-container-id-1 div.sk-label label {\n",
              "  /* The background is the default theme color */\n",
              "  color: var(--sklearn-color-text-on-default-background);\n",
              "}\n",
              "\n",
              "/* On hover, darken the color of the background */\n",
              "#sk-container-id-1 div.sk-label:hover label.sk-toggleable__label {\n",
              "  color: var(--sklearn-color-text);\n",
              "  background-color: var(--sklearn-color-unfitted-level-2);\n",
              "}\n",
              "\n",
              "/* Label box, darken color on hover, fitted */\n",
              "#sk-container-id-1 div.sk-label.fitted:hover label.sk-toggleable__label.fitted {\n",
              "  color: var(--sklearn-color-text);\n",
              "  background-color: var(--sklearn-color-fitted-level-2);\n",
              "}\n",
              "\n",
              "/* Estimator label */\n",
              "\n",
              "#sk-container-id-1 div.sk-label label {\n",
              "  font-family: monospace;\n",
              "  font-weight: bold;\n",
              "  display: inline-block;\n",
              "  line-height: 1.2em;\n",
              "}\n",
              "\n",
              "#sk-container-id-1 div.sk-label-container {\n",
              "  text-align: center;\n",
              "}\n",
              "\n",
              "/* Estimator-specific */\n",
              "#sk-container-id-1 div.sk-estimator {\n",
              "  font-family: monospace;\n",
              "  border: 1px dotted var(--sklearn-color-border-box);\n",
              "  border-radius: 0.25em;\n",
              "  box-sizing: border-box;\n",
              "  margin-bottom: 0.5em;\n",
              "  /* unfitted */\n",
              "  background-color: var(--sklearn-color-unfitted-level-0);\n",
              "}\n",
              "\n",
              "#sk-container-id-1 div.sk-estimator.fitted {\n",
              "  /* fitted */\n",
              "  background-color: var(--sklearn-color-fitted-level-0);\n",
              "}\n",
              "\n",
              "/* on hover */\n",
              "#sk-container-id-1 div.sk-estimator:hover {\n",
              "  /* unfitted */\n",
              "  background-color: var(--sklearn-color-unfitted-level-2);\n",
              "}\n",
              "\n",
              "#sk-container-id-1 div.sk-estimator.fitted:hover {\n",
              "  /* fitted */\n",
              "  background-color: var(--sklearn-color-fitted-level-2);\n",
              "}\n",
              "\n",
              "/* Specification for estimator info (e.g. \"i\" and \"?\") */\n",
              "\n",
              "/* Common style for \"i\" and \"?\" */\n",
              "\n",
              ".sk-estimator-doc-link,\n",
              "a:link.sk-estimator-doc-link,\n",
              "a:visited.sk-estimator-doc-link {\n",
              "  float: right;\n",
              "  font-size: smaller;\n",
              "  line-height: 1em;\n",
              "  font-family: monospace;\n",
              "  background-color: var(--sklearn-color-background);\n",
              "  border-radius: 1em;\n",
              "  height: 1em;\n",
              "  width: 1em;\n",
              "  text-decoration: none !important;\n",
              "  margin-left: 0.5em;\n",
              "  text-align: center;\n",
              "  /* unfitted */\n",
              "  border: var(--sklearn-color-unfitted-level-1) 1pt solid;\n",
              "  color: var(--sklearn-color-unfitted-level-1);\n",
              "}\n",
              "\n",
              ".sk-estimator-doc-link.fitted,\n",
              "a:link.sk-estimator-doc-link.fitted,\n",
              "a:visited.sk-estimator-doc-link.fitted {\n",
              "  /* fitted */\n",
              "  border: var(--sklearn-color-fitted-level-1) 1pt solid;\n",
              "  color: var(--sklearn-color-fitted-level-1);\n",
              "}\n",
              "\n",
              "/* On hover */\n",
              "div.sk-estimator:hover .sk-estimator-doc-link:hover,\n",
              ".sk-estimator-doc-link:hover,\n",
              "div.sk-label-container:hover .sk-estimator-doc-link:hover,\n",
              ".sk-estimator-doc-link:hover {\n",
              "  /* unfitted */\n",
              "  background-color: var(--sklearn-color-unfitted-level-3);\n",
              "  color: var(--sklearn-color-background);\n",
              "  text-decoration: none;\n",
              "}\n",
              "\n",
              "div.sk-estimator.fitted:hover .sk-estimator-doc-link.fitted:hover,\n",
              ".sk-estimator-doc-link.fitted:hover,\n",
              "div.sk-label-container:hover .sk-estimator-doc-link.fitted:hover,\n",
              ".sk-estimator-doc-link.fitted:hover {\n",
              "  /* fitted */\n",
              "  background-color: var(--sklearn-color-fitted-level-3);\n",
              "  color: var(--sklearn-color-background);\n",
              "  text-decoration: none;\n",
              "}\n",
              "\n",
              "/* Span, style for the box shown on hovering the info icon */\n",
              ".sk-estimator-doc-link span {\n",
              "  display: none;\n",
              "  z-index: 9999;\n",
              "  position: relative;\n",
              "  font-weight: normal;\n",
              "  right: .2ex;\n",
              "  padding: .5ex;\n",
              "  margin: .5ex;\n",
              "  width: min-content;\n",
              "  min-width: 20ex;\n",
              "  max-width: 50ex;\n",
              "  color: var(--sklearn-color-text);\n",
              "  box-shadow: 2pt 2pt 4pt #999;\n",
              "  /* unfitted */\n",
              "  background: var(--sklearn-color-unfitted-level-0);\n",
              "  border: .5pt solid var(--sklearn-color-unfitted-level-3);\n",
              "}\n",
              "\n",
              ".sk-estimator-doc-link.fitted span {\n",
              "  /* fitted */\n",
              "  background: var(--sklearn-color-fitted-level-0);\n",
              "  border: var(--sklearn-color-fitted-level-3);\n",
              "}\n",
              "\n",
              ".sk-estimator-doc-link:hover span {\n",
              "  display: block;\n",
              "}\n",
              "\n",
              "/* \"?\"-specific style due to the `<a>` HTML tag */\n",
              "\n",
              "#sk-container-id-1 a.estimator_doc_link {\n",
              "  float: right;\n",
              "  font-size: 1rem;\n",
              "  line-height: 1em;\n",
              "  font-family: monospace;\n",
              "  background-color: var(--sklearn-color-background);\n",
              "  border-radius: 1rem;\n",
              "  height: 1rem;\n",
              "  width: 1rem;\n",
              "  text-decoration: none;\n",
              "  /* unfitted */\n",
              "  color: var(--sklearn-color-unfitted-level-1);\n",
              "  border: var(--sklearn-color-unfitted-level-1) 1pt solid;\n",
              "}\n",
              "\n",
              "#sk-container-id-1 a.estimator_doc_link.fitted {\n",
              "  /* fitted */\n",
              "  border: var(--sklearn-color-fitted-level-1) 1pt solid;\n",
              "  color: var(--sklearn-color-fitted-level-1);\n",
              "}\n",
              "\n",
              "/* On hover */\n",
              "#sk-container-id-1 a.estimator_doc_link:hover {\n",
              "  /* unfitted */\n",
              "  background-color: var(--sklearn-color-unfitted-level-3);\n",
              "  color: var(--sklearn-color-background);\n",
              "  text-decoration: none;\n",
              "}\n",
              "\n",
              "#sk-container-id-1 a.estimator_doc_link.fitted:hover {\n",
              "  /* fitted */\n",
              "  background-color: var(--sklearn-color-fitted-level-3);\n",
              "}\n",
              "</style><div id=\"sk-container-id-1\" class=\"sk-top-container\"><div class=\"sk-text-repr-fallback\"><pre>LGBMClassifier()</pre><b>In a Jupyter environment, please rerun this cell to show the HTML representation or trust the notebook. <br />On GitHub, the HTML representation is unable to render, please try loading this page with nbviewer.org.</b></div><div class=\"sk-container\" hidden><div class=\"sk-item\"><div class=\"sk-estimator fitted sk-toggleable\"><input class=\"sk-toggleable__control sk-hidden--visually\" id=\"sk-estimator-id-1\" type=\"checkbox\" checked><label for=\"sk-estimator-id-1\" class=\"sk-toggleable__label fitted sk-toggleable__label-arrow\"><div><div>LGBMClassifier</div></div><div><span class=\"sk-estimator-doc-link fitted\">i<span>Fitted</span></span></div></label><div class=\"sk-toggleable__content fitted\"><pre>LGBMClassifier()</pre></div> </div></div></div></div>"
            ]
          },
          "metadata": {},
          "execution_count": 12
        }
      ]
    },
    {
      "cell_type": "markdown",
      "metadata": {
        "id": "V37aoTG3JAS2"
      },
      "source": [
        "### **5.9 Model prediction**"
      ]
    },
    {
      "cell_type": "code",
      "metadata": {
        "trusted": true,
        "id": "7Fnvri0WJAS2"
      },
      "source": [
        "# predict the results\n",
        "y_pred=clf.predict(X_test)\n"
      ],
      "execution_count": 13,
      "outputs": []
    },
    {
      "cell_type": "markdown",
      "metadata": {
        "id": "IRcj0AY9JAS2"
      },
      "source": [
        "### **5.10 Model accuracy**"
      ]
    },
    {
      "cell_type": "code",
      "metadata": {
        "trusted": true,
        "id": "BAJzKFo3JAS2",
        "colab": {
          "base_uri": "https://localhost:8080/"
        },
        "outputId": "40e379ca-2391-445a-abb0-6dc33dc8df8a"
      },
      "source": [
        "# view accuracy\n",
        "from sklearn.metrics import accuracy_score\n",
        "accuracy=accuracy_score(y_pred, y_test)\n",
        "print('LightGBM Model accuracy score: {0:0.4f}'.format(accuracy_score(y_test, y_pred)))"
      ],
      "execution_count": 14,
      "outputs": [
        {
          "output_type": "stream",
          "name": "stdout",
          "text": [
            "LightGBM Model accuracy score: 0.9950\n"
          ]
        }
      ]
    },
    {
      "cell_type": "markdown",
      "metadata": {
        "id": "fmc3f4VTJAS3"
      },
      "source": [
        "- Here, `y_test` are the true class labels and `y_pred` are the predicted class labels in the test-set."
      ]
    },
    {
      "cell_type": "markdown",
      "metadata": {
        "id": "TJO42NbwJAS3"
      },
      "source": [
        "### **5.11 Compare train and test set accuracy**\n",
        "\n",
        "- Now, I will compare the train-set and test-set accuracy to check for overfitting."
      ]
    },
    {
      "cell_type": "code",
      "metadata": {
        "trusted": true,
        "id": "F0ZB2hfIJAS4"
      },
      "source": [
        "y_pred_train = clf.predict(X_train)"
      ],
      "execution_count": 15,
      "outputs": []
    },
    {
      "cell_type": "code",
      "metadata": {
        "trusted": true,
        "id": "8J97R7OtJAS4",
        "colab": {
          "base_uri": "https://localhost:8080/"
        },
        "outputId": "8e38c348-8370-40d6-d14b-959611ea9c01"
      },
      "source": [
        "print('Training-set accuracy score: {0:0.4f}'. format(accuracy_score(y_train, y_pred_train)))"
      ],
      "execution_count": 16,
      "outputs": [
        {
          "output_type": "stream",
          "name": "stdout",
          "text": [
            "Training-set accuracy score: 1.0000\n"
          ]
        }
      ]
    },
    {
      "cell_type": "markdown",
      "metadata": {
        "id": "9wuEtqLtJAS4"
      },
      "source": [
        "### **5.12 Check for overfitting**"
      ]
    },
    {
      "cell_type": "code",
      "metadata": {
        "trusted": true,
        "id": "lyrHWV_JJAS5",
        "colab": {
          "base_uri": "https://localhost:8080/"
        },
        "outputId": "176b0d48-78d0-41bb-88dd-7a05a23d3807"
      },
      "source": [
        "# print the scores on training and test set\n",
        "\n",
        "print('Training set score: {:.4f}'.format(clf.score(X_train, y_train)))\n",
        "\n",
        "print('Test set score: {:.4f}'.format(clf.score(X_test, y_test)))"
      ],
      "execution_count": 17,
      "outputs": [
        {
          "output_type": "stream",
          "name": "stdout",
          "text": [
            "Training set score: 1.0000\n",
            "Test set score: 0.9950\n"
          ]
        }
      ]
    },
    {
      "cell_type": "markdown",
      "metadata": {
        "id": "svK9H444JAS5"
      },
      "source": [
        "- The training and test set accuracy are quite comparable. So, we cannot say there is overfitting."
      ]
    },
    {
      "cell_type": "markdown",
      "metadata": {
        "id": "C1aP4CerJAS5"
      },
      "source": [
        "### **5.13 Confusion-matrix**"
      ]
    },
    {
      "cell_type": "code",
      "metadata": {
        "trusted": true,
        "id": "lLIwtL2bJAS6",
        "colab": {
          "base_uri": "https://localhost:8080/"
        },
        "outputId": "0be02e43-c61e-4d3e-b7f0-47cf4a7a938d"
      },
      "source": [
        "# view confusion-matrix\n",
        "# Print the Confusion Matrix and slice it into four pieces\n",
        "\n",
        "from sklearn.metrics import confusion_matrix\n",
        "cm = confusion_matrix(y_test, y_pred)\n",
        "print('Confusion matrix\\n\\n', cm)\n",
        "print('\\nTrue Positives(TP) = ', cm[0,0])\n",
        "print('\\nTrue Negatives(TN) = ', cm[1,1])\n",
        "print('\\nFalse Positives(FP) = ', cm[0,1])\n",
        "print('\\nFalse Negatives(FN) = ', cm[1,0])"
      ],
      "execution_count": 18,
      "outputs": [
        {
          "output_type": "stream",
          "name": "stdout",
          "text": [
            "Confusion matrix\n",
            "\n",
            " [[3458   10]\n",
            " [  16 1677]]\n",
            "\n",
            "True Positives(TP) =  3458\n",
            "\n",
            "True Negatives(TN) =  1677\n",
            "\n",
            "False Positives(FP) =  10\n",
            "\n",
            "False Negatives(FN) =  16\n"
          ]
        }
      ]
    },
    {
      "cell_type": "code",
      "metadata": {
        "trusted": true,
        "id": "h5ZD1-5jJAS6",
        "colab": {
          "base_uri": "https://localhost:8080/",
          "height": 448
        },
        "outputId": "a8694a8a-bf43-434a-ae5b-c9f26abbe165"
      },
      "source": [
        "# visualize confusion matrix with seaborn heatmap\n",
        "\n",
        "cm_matrix = pd.DataFrame(data=cm, columns=['Actual Positive:1', 'Actual Negative:0'],\n",
        "                                 index=['Predict Positive:1', 'Predict Negative:0'])\n",
        "\n",
        "sns.heatmap(cm_matrix, annot=True, fmt='d', cmap='YlGnBu')"
      ],
      "execution_count": 19,
      "outputs": [
        {
          "output_type": "execute_result",
          "data": {
            "text/plain": [
              "<Axes: >"
            ]
          },
          "metadata": {},
          "execution_count": 19
        },
        {
          "output_type": "display_data",
          "data": {
            "text/plain": [
              "<Figure size 640x480 with 2 Axes>"
            ],
            "image/png": "[encoded data removed]"
          },
          "metadata": {}
        }
      ]
    },
    {
      "cell_type": "markdown",
      "metadata": {
        "id": "OCIRYJctJAS6"
      },
      "source": [
        "### **5.14 Classification metrices**"
      ]
    },
    {
      "cell_type": "code",
      "metadata": {
        "trusted": true,
        "id": "YNkC8xGVJAS7",
        "colab": {
          "base_uri": "https://localhost:8080/"
        },
        "outputId": "1b16be97-78e6-4c47-b174-cd4e2c293d69"
      },
      "source": [
        "from sklearn.metrics import classification_report\n",
        "print(classification_report(y_test, y_pred))"
      ],
      "execution_count": 20,
      "outputs": [
        {
          "output_type": "stream",
          "name": "stdout",
          "text": [
            "              precision    recall  f1-score   support\n",
            "\n",
            "           0       1.00      1.00      1.00      3468\n",
            "           1       0.99      0.99      0.99      1693\n",
            "\n",
            "    accuracy                           0.99      5161\n",
            "   macro avg       0.99      0.99      0.99      5161\n",
            "weighted avg       0.99      0.99      0.99      5161\n",
            "\n"
          ]
        }
      ]
    },
    {
      "cell_type": "code",
      "source": [
        "# build the lightgbm model\n",
        "import lightgbm as lgb\n",
        "import joblib  # Import joblib for saving the model\n",
        "\n",
        "clf = lgb.LGBMClassifier()\n",
        "clf.fit(X_train, y_train)\n",
        "\n",
        "# Save the model to a .pkl file\n",
        "model_filename = 'lightgbm_model.pkl'\n",
        "joblib.dump(clf, model_filename)\n",
        "print(f\"Model saved as {model_filename}\")\n",
        "\n",
        "# Optional: Load the model back to verify\n",
        "loaded_model = joblib.load(model_filename)\n",
        "print(\"Model loaded successfully for verification\")"
      ],
      "metadata": {
        "colab": {
          "base_uri": "https://localhost:8080/"
        },
        "id": "IkM5TBybX8Xa",
        "outputId": "618191f0-337f-4a35-f4aa-14085892a2bc"
      },
      "execution_count": 23,
      "outputs": [
        {
          "output_type": "stream",
          "name": "stdout",
          "text": [
            "[LightGBM] [Info] Number of positive: 3820, number of negative: 8220\n",
            "[LightGBM] [Info] Auto-choosing col-wise multi-threading, the overhead of testing was 0.002046 seconds.\n",
            "You can set `force_col_wise=true` to remove the overhead.\n",
            "[LightGBM] [Info] Total Bins 2335\n",
            "[LightGBM] [Info] Number of data points in the train set: 12040, number of used features: 10\n",
            "[LightGBM] [Info] [binary:BoostFromScore]: pavg=0.317276 -> initscore=-0.766320\n",
            "[LightGBM] [Info] Start training from score -0.766320\n",
            "Model saved as lightgbm_model.pkl\n",
            "Model loaded successfully for verification\n"
          ]
        }
      ]
    },
    {
      "cell_type": "code",
      "source": [
        "import joblib\n",
        "import numpy as np\n",
        "import pandas as pd\n",
        "import matplotlib.pyplot as plt\n",
        "from sklearn.metrics import accuracy_score\n",
        "\n",
        "# Load the saved LightGBM model\n",
        "model_filename = 'lightgbm_model.pkl'\n",
        "try:\n",
        "    model = joblib.load(model_filename)\n",
        "    print(\"Model loaded successfully.\")\n",
        "except FileNotFoundError:\n",
        "    print(f\"Error: The model file '{model_filename}' was not found. Please ensure it exists.\")\n",
        "    exit()\n",
        "\n",
        "# Feature names for user input\n",
        "feature_names = [\n",
        "    'temperature_2m', 'relative_humidity_2m', 'precipitation', 'wind_speed_10m',\n",
        "    'FFMC', 'DMC', 'DC', 'ISI', 'BUI', 'FWI'\n",
        "]\n",
        "\n",
        "# Optional: Load test data for accuracy evaluation (assuming from your original code)\n",
        "try:\n",
        "    df = pd.read_csv('/content/converted_dataset.csv')\n",
        "    X = df[['temperature_2m', 'relative_humidity_2m', 'precipitation', 'wind_speed_10m', 'FFMC', 'DMC', 'DC', 'ISI', 'BUI', 'FWI']]\n",
        "    y = df['forest_fire']\n",
        "    from sklearn.model_selection import train_test_split\n",
        "    X_train, X_test, y_train, y_test = train_test_split(X, y, test_size=0.3, random_state=0)\n",
        "    print(\"Test data loaded for accuracy evaluation.\")\n",
        "except FileNotFoundError:\n",
        "    print(\"Test dataset not found. Proceeding with prediction-only mode.\")\n",
        "    X_test, y_test = None, None\n",
        "\n",
        "def get_user_input():\n",
        "    \"\"\"Helper function to get feature values from the user.\"\"\"\n",
        "    print(\"\\nEnter the following feature values (or type 'exit' to finish):\")\n",
        "    feature_values = []\n",
        "    for feature in feature_names:\n",
        "        value = input(f\"{feature}: \")\n",
        "        if value.lower() == 'exit':\n",
        "            return None\n",
        "        try:\n",
        "            feature_values.append(float(value))\n",
        "        except ValueError:\n",
        "            print(f\"Invalid input for {feature}. Please enter a numeric value.\")\n",
        "            return None\n",
        "    return np.array(feature_values).reshape(1, -1)\n",
        "\n",
        "def plot_accuracy_graph(predictions, true_labels):\n",
        "    \"\"\"Function to plot the accuracy history based on test set.\"\"\"\n",
        "    if len(predictions) == 0 or len(true_labels) == 0:\n",
        "        print(\"No data to plot.\")\n",
        "        return\n",
        "\n",
        "    accuracy_history = []\n",
        "    for i in range(1, len(predictions) + 1):\n",
        "        accuracy_history.append(accuracy_score(true_labels[:i], predictions[:i]))\n",
        "\n",
        "    plt.figure(figsize=(10, 6))\n",
        "    plt.plot(range(1, len(accuracy_history) + 1), accuracy_history, marker='o', linestyle='-', color='b')\n",
        "    plt.title('Model Accuracy Over Test Cases')\n",
        "    plt.xlabel('Number of Test Cases')\n",
        "    plt.ylabel('Cumulative Accuracy')\n",
        "    plt.grid(True)\n",
        "    plt.ylim(0, 1.1)  # Accuracy range from 0 to 1, with some padding\n",
        "    plt.xticks(range(1, len(accuracy_history) + 1))\n",
        "    for i, acc in enumerate(accuracy_history):\n",
        "        plt.text(i + 1, acc, f'{acc:.4f}', ha='center', va='bottom')\n",
        "    plt.show()\n",
        "\n",
        "def test_model():\n",
        "    \"\"\"Main function to run the test interface.\"\"\"\n",
        "    print(\"=== LightGBM Model Test Interface ===\")\n",
        "    print(\"Provide feature values to get predictions. Type 'exit' to finish.\\n\")\n",
        "\n",
        "    user_predictions = []\n",
        "\n",
        "    while True:\n",
        "        # Get feature values\n",
        "        test_data = get_user_input()\n",
        "        if test_data is None:\n",
        "            break\n",
        "\n",
        "        # Make prediction\n",
        "        prediction = model.predict(test_data)[0]\n",
        "        user_predictions.append(prediction)\n",
        "\n",
        "        # Display result\n",
        "        print(f\"\\nPredicted label: {prediction} ({'Fire' if prediction == 1 else 'No Fire'})\")\n",
        "\n",
        "    # Evaluate on test set if available and plot accuracy\n",
        "    if X_test is not None and y_test is not None:\n",
        "        test_predictions = model.predict(X_test)\n",
        "        final_accuracy = accuracy_score(y_test, test_predictions)\n",
        "        print(\"\\n=== Test Set Evaluation ===\")\n",
        "        print(f\"Total test cases from dataset: {len(y_test)}\")\n",
        "        print(f\"Test set accuracy: {final_accuracy:.4f}\")\n",
        "        plot_accuracy_graph(test_predictions, y_test)\n",
        "    else:\n",
        "        print(\"\\nNo test dataset available for accuracy evaluation.\")\n",
        "\n",
        "    # Summary of user predictions\n",
        "    if user_predictions:\n",
        "        print(\"\\n=== User Input Summary ===\")\n",
        "        print(f\"Total user predictions made: {len(user_predictions)}\")\n",
        "        print(f\"Predicted outcomes: {['Fire' if p == 1 else 'No Fire' for p in user_predictions]}\")\n",
        "\n",
        "# Run the test interface\n",
        "if __name__ == \"__main__\":\n",
        "    test_model()"
      ],
      "metadata": {
        "colab": {
          "base_uri": "https://localhost:8080/",
          "height": 108
        },
        "id": "E3UTqcmlYbCC",
        "outputId": "44048ed4-d11a-484b-8982-3d0672ad4039"
      },
      "execution_count": 27,
      "outputs": [
        {
          "output_type": "error",
          "ename": "SyntaxError",
          "evalue": "invalid syntax (<ipython-input-27-0f529da68418>, line 110)",
          "traceback": [
            "\u001b[0;36m  File \u001b[0;32m\"<ipython-input-27-0f529da68418>\"\u001b[0;36m, line \u001b[0;32m110\u001b[0m\n\u001b[0;31m    test_model()4\u001b[0m\n\u001b[0m                ^\u001b[0m\n\u001b[0;31mSyntaxError\u001b[0m\u001b[0;31m:\u001b[0m invalid syntax\n"
          ]
        }
      ]
    },
    {
      "cell_type": "code",
      "source": [
        "import joblib\n",
        "import numpy as np\n",
        "from sklearn.metrics import accuracy_score\n",
        "import matplotlib.pyplot as plt\n",
        "\n",
        "# Load the saved LightGBM model\n",
        "model_filename = 'lightgbm_model.pkl'\n",
        "try:\n",
        "    model = joblib.load(model_filename)\n",
        "    print(\"Model loaded successfully.\")\n",
        "except FileNotFoundError:\n",
        "    print(f\"Error: The model file '{model_filename}' was not found. Please ensure it exists.\")\n",
        "    exit()\n",
        "\n",
        "# Feature names for user input\n",
        "feature_names = [\n",
        "    'temperature_2m', 'relative_humidity_2m', 'precipitation', 'wind_speed_10m',\n",
        "    'FFMC', 'DMC', 'DC', 'ISI', 'BUI', 'FWI'\n",
        "]\n",
        "\n",
        "# Lists to store true labels, predictions, and cumulative accuracy\n",
        "true_labels = []\n",
        "predictions = []\n",
        "accuracy_history = []\n",
        "\n",
        "def get_user_input():\n",
        "    \"\"\"Helper function to get feature values from the user.\"\"\"\n",
        "    print(\"\\nEnter the following feature values (or type 'exit' to finish):\")\n",
        "    feature_values = []\n",
        "    for feature in feature_names:\n",
        "        value = input(f\"{feature}: \")\n",
        "        if value.lower() == 'exit':\n",
        "            return None\n",
        "        try:\n",
        "            feature_values.append(float(value))\n",
        "        except ValueError:\n",
        "            print(f\"Invalid input for {feature}. Please enter a numeric value.\")\n",
        "            return None\n",
        "    return np.array(feature_values).reshape(1, -1)\n",
        "\n",
        "def get_true_label():\n",
        "    \"\"\"Helper function to get the true label from the user.\"\"\"\n",
        "    while True:\n",
        "        label = input(\"Enter the true label (0 for no fire, 1 for fire): \")\n",
        "        if label.lower() == 'exit':\n",
        "            return None\n",
        "        if label in ['0', '1']:\n",
        "            return int(label)\n",
        "        print(\"Invalid input. Please enter 0 or 1.\")\n",
        "\n",
        "def plot_accuracy_graph():\n",
        "    \"\"\"Function to plot the accuracy history.\"\"\"\n",
        "    if len(accuracy_history) == 0:\n",
        "        print(\"No data to plot.\")\n",
        "        return\n",
        "\n",
        "    plt.figure(figsize=(10, 6))\n",
        "    plt.plot(range(1, len(accuracy_history) + 1), accuracy_history, marker='o', linestyle='-', color='b')\n",
        "    plt.title('Model Accuracy Over Test Cases')\n",
        "    plt.xlabel('Number of Test Cases')\n",
        "    plt.ylabel('Cumulative Accuracy')\n",
        "    plt.grid(True)\n",
        "    plt.ylim(0, 1.1)  # Accuracy range from 0 to 1, with some padding\n",
        "    plt.xticks(range(1, len(accuracy_history) + 1))\n",
        "    for i, acc in enumerate(accuracy_history):\n",
        "        plt.text(i + 1, acc, f'{acc:.4f}', ha='center', va='bottom')\n",
        "    plt.show()\n",
        "\n",
        "def test_model():\n",
        "    \"\"\"Main function to run the test interface.\"\"\"\n",
        "    print(\"=== LightGBM Model Test Interface ===\")\n",
        "    print(\"Provide test data to evaluate the model. Type 'exit' at any input to finish.\\n\")\n",
        "\n",
        "    while True:\n",
        "        # Get feature values\n",
        "        test_data = get_user_input()\n",
        "        if test_data is None:\n",
        "            break\n",
        "\n",
        "        # Get true label\n",
        "        true_label = get_true_label()\n",
        "        if true_label is None:\n",
        "            break\n",
        "\n",
        "        # Make prediction\n",
        "        prediction = model.predict(test_data)[0]\n",
        "        true_labels.append(true_label)\n",
        "        predictions.append(prediction)\n",
        "\n",
        "        # Calculate and store current accuracy\n",
        "        current_accuracy = accuracy_score(true_labels, predictions)\n",
        "        accuracy_history.append(current_accuracy)\n",
        "\n",
        "        # Display result\n",
        "        print(f\"\\nPredicted label: {prediction} ({'Fire' if prediction == 1 else 'No Fire'})\")\n",
        "        print(f\"True label: {true_label} ({'Fire' if true_label == 1 else 'No Fire'})\")\n",
        "        print(f\"Match: {prediction == true_label}\")\n",
        "        print(f\"Current accuracy based on {len(true_labels)} test cases: {current_accuracy:.4f}\")\n",
        "\n",
        "    # Final summary and plot\n",
        "    if len(true_labels) > 0:\n",
        "        final_accuracy = accuracy_score(true_labels, predictions)\n",
        "        print(\"\\n=== Test Summary ===\")\n",
        "        print(f\"Total test cases: {len(true_labels)}\")\n",
        "        print(f\"Final accuracy: {final_accuracy:.4f}\")\n",
        "        plot_accuracy_graph()\n",
        "    else:\n",
        "        print(\"\\nNo test cases provided.\")\n",
        "\n",
        "# Run the test interface\n",
        "if __name__ == \"__main__\":\n",
        "    test_model()"
      ],
      "metadata": {
        "id": "R8tShh83ZBZ0"
      },
      "execution_count": null,
      "outputs": []
    },
    {
      "cell_type": "markdown",
      "metadata": {
        "id": "gZ3svj9jKdIn"
      },
      "source": [
        "## **6. Results and conclusion**\n",
        "\n",
        "-\tLightGBM model accuracy is found to be 0.9240.\n",
        "-\tThe training and test set accuracy is quite comparable. So, there is no overfitting.\n",
        "-\tConfusion-matrix shows that TP = 55, TN = 103, FP = 8 and FN = 5.\n",
        "-\tPrecision and recall for positive prediction is 0.93 and 0.95 respectively.\n",
        "\n"
      ]
    },
    {
      "cell_type": "markdown",
      "metadata": {
        "id": "seDG6iBtJAS7"
      },
      "source": [
        "## **7. LightGBM parameter tuning**  \n",
        "\n",
        "\n",
        "- In this section, I will discuss some tips to improve LightGBM model efficiency.\n",
        "\n",
        "- Following set of practices can be used to improve your model efficiency.\n",
        "\n",
        "  - 1 **num_leaves** : This is the main parameter to control the complexity of the tree model. Ideally, the value of num_leaves should be less than or equal to 2^(max_depth). Value more than this will result in overfitting.\n",
        "\n",
        "  - 2 **min_data_in_leaf** : Setting it to a large value can avoid growing too deep a tree, but may cause under-fitting. In practice, setting it to hundreds or thousands is enough for a large dataset.\n",
        "\n",
        "  - 3 **max_depth** : We also can use max_depth to limit the tree depth explicitly."
      ]
    },
    {
      "cell_type": "markdown",
      "metadata": {
        "id": "NPrC32pPJAS7"
      },
      "source": [
        "### **7.1 For faster speed**\n",
        "\n",
        "- Use bagging by setting `bagging_fraction` and `bagging_freq`.\n",
        "- Use feature sub-sampling by setting `feature_fraction`.\n",
        "- Use small `max_bin`.\n",
        "- Use `save_binary` to speed up data loading in future learning."
      ]
    },
    {
      "cell_type": "markdown",
      "metadata": {
        "id": "VbJ9-efSJAS8"
      },
      "source": [
        "### **7.2 For better accuracy**\n",
        "\n",
        "- Use large `max_bin` (may be slower).\n",
        "- Use small `learning_rate` with `large num_iterations`\n",
        "- Use large `num_leaves`(may cause over-fitting)\n",
        "- Use bigger training data\n",
        "- Try `dart`\n",
        "- Try to use categorical feature directly."
      ]
    },
    {
      "cell_type": "markdown",
      "metadata": {
        "id": "M0ueK4MYJAS8"
      },
      "source": [
        "### **7.3 To deal with over-fitting**\n",
        "\n",
        "- Use small `max_bin`\n",
        "- Use small `num_leaves`\n",
        "- Use `min_data_in_leaf` and `min_sum_hessian_in_leaf`\n",
        "- Use bagging by set `bagging_fraction` and `bagging_freq`\n",
        "- Use feature sub-sampling by set `feature_fraction`\n",
        "- Use bigger training data\n",
        "- Try `lambda_l1`, `lambda_l2` and `min_gain_to_split` to regularization\n",
        "- Try `max_depth` to avoid growing deep tree"
      ]
    },
    {
      "cell_type": "markdown",
      "metadata": {
        "id": "L1gZfKjgJAS8"
      },
      "source": [
        "## **8. References**  \n",
        "\n",
        "\n",
        "- The ideas and concepts in this project are taken from the following websites -\n",
        "\n",
        "- https://github.com/Microsoft/LightGBM\n",
        "\n",
        "- https://github.com/microsoft/LightGBM/blob/master/docs/Parameters.rst\n",
        "\n",
        "- https://medium.com/@pushkarmandot/https-medium-com-pushkarmandot-what-is-lightgbm-how-to-implement-it-how-to-fine-tune-the-parameters-60347819b7fc\n",
        "\n",
        "- https://sefiks.com/2018/10/13/a-gentle-introduction-to-lightgbm-for-applied-machine-learning/\n",
        "\n",
        "- https://towardsdatascience.com/build-xgboost-lightgbm-models-on-large-datasets-what-are-the-possible-solutions-bf882da2c27d\n",
        "\n"
      ]
    }
  ]
}